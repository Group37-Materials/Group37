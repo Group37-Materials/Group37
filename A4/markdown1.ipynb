{
 "cells": [
  {
   "cell_type": "markdown",
   
   "metadata": {},
   "source": [
    "# Extract volumes for a specific building element"
   ]
  }
