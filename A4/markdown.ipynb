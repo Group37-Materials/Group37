Dictionaries to store total surface area, volume, and materials of each element type
area_totals = {}
volume_totals = {}
materials = {}

LCA data: CO₂ footprint per cubic meter for each material
material_co2_footprint = {
    "Steel": 7.8,  # Example values: Replace with accurate data
    "Concrete": 0.2,
    "Wood": 0.03
}

# Data structure to store results for visualization and export
lca_data_for_visualization = {
    "Surface Area": {},
    "Volume": {},
    "CO2 Footprint": {},
}
