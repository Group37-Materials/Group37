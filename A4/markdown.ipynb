{
 "cells": [
  {
   "cell_type": "markdown",
   
   "metadata": {},
   "source": [
    "# Extract volumes for a specific building element"
   ]
  },
  {
   "cell_type": "markdown",
   "id": "9c8fa28a-0bf4-480e-b757-5fd90be782fe",
   "metadata": {},
   "source": [
    "## 1. Introduction \n",
    "The script should be able to calculate the volumes of building elements and based on these volumes, calculate CO2 footprint of the element \n",
    "The user of the script should be able to chose an element such as:\n",
    "- Beams\n",
    "- Slaps\n",
    "- Columns \n",
    "\n",
    "The results are then presented in bar plot to give a clear overview."
   ]
  },
  {
   "cell_type": "markdown",
   "metadata": {},
   "source": [
    "## 2. Assumtions \n",
    "It is assumed that the model destinguish correctly between building elements \n",
    "The code is made as general as possible and will not account for bad modeling \n",
    "Values for the CO2 footprint of materials are asummed values \n",
   ]
  },
  {
   "cell_type": "markdown",
   "id": "5c58ce81-547a-4d4c-8e15-dd4cd66e5d6a",
   "metadata": {},
   "source": [
    "## 3. Code Overview \n",
    "**a. Import Required Libraries.**"
   ]
  },
  {
   "cell_type": "code",
   "execution_count": null,
   "id": "ff5b9a71-396f-46cc-850d-92ac94432d1a",
   "metadata": {},
   "outputs": [],
   "source": [
    "import ifcopenshell"
   ]
  },
  {
   "cell_type": "code",
   "execution_count": null,
   "id": "e5fbd908-e00d-4b46-86f5-d1d574f1326a",
   "metadata": {},
   "outputs": [],
   "source": [
    "import ifcopenshell.util.element"
   ]
  },
  {
   "cell_type": "markdown",
   "id": "984f92f8-3860-47b5-8118-e621e96679ae",
   "metadata": {},
   "source": [
    "- ifcopenshell: Used to work with IFC models.  \n",
    "- ifcopenshell.util.element: Used to access Property Sets (psets) of elements in the IFC model.  \n",
    "\n",
    "\n",
    "**b. Function Definition.**"
   ]
  },
  {
   "cell_type": "code",
   "execution_count": null,
   "id": "978c14ca-b9f8-4cf1-8ebd-952efe29a4c2",
   "metadata": {},
   "outputs": [],
   "source": [
    "def checkRule(model):\n",
    "    elements = model.by_type('IfcSlab')  # Retrieves all IfcSlab objects\n",
    "    result = []  # List to store the results"
   ]
  },
  {
   "cell_type": "markdown",
   "id": "734c5152-0051-4b41-8a68-337515cadcd2",
   "metadata": {},
   "source": [
    "- The function takes an IFC model object as input.  \n",
    "- It retrieves all objects of type IfcSlab (commonly used for floor layers in building design).  \n",
    "\n",
    "**c. Initialize Variables.**"
   ]
  },
  {
   "cell_type": "code",
   "execution_count": null,
   "id": "f50cc5d0-f52b-45e5-83a0-3c961bb287e5",
   "metadata": {},
   "outputs": [],
   "source": [
    "laminate_volume = 0\n",
    "tile_volume = 0\n",
    "wood_volume = 0\n",
    "\n",
    "laminate_co2 = 0\n",
    "tile_co2 = 0\n",
    "wood_co2 = 0"
   ]
  },
  {
   "cell_type": "markdown",
   "id": "11e85f7b-cbea-43dc-b2eb-a8d6103bda2a",
   "metadata": {},
   "source": [
    "- Variables are initialized to track volume and CO₂ emissions for each material type.\n",
    "\n",
    "Material-specific density and CO₂ emission values are defined as constants:"
   ]
  },
  {
   "cell_type": "code",
   "execution_count": null,
   "id": "2ba92819-78d5-4e3c-9782-f4ecf2681cdb",
   "metadata": {},
   "outputs": [],
   "source": [
    "laminate_density = 850  # kg/m³\n",
    "laminate_co2_factor = 0.051  # kgCO2e/kg\n",
    "\n",
    "tile_density = 4000  # kg/m³\n",
    "tile_co2_factor = 0.757  # kgCO2e/kg\n",
    "\n",
    "wood_co2_factor = 91.9  # kgCO2e/m³"
   ]
  },
  {
   "cell_type": "markdown",
   "id": "8ed578cf-f5d4-4473-ab8c-6acaae8ce49f",
   "metadata": {},
   "source": [
    "- Density: Used to calculate mass from volume.  \n",
    "- CO₂ factor: Used to calculate CO₂ emissions from mass or volume.  \n",
    "\n",
    "**d. Processing Elements.**"
   ]
  },
  {
   "cell_type": "code",
   "execution_count": null,
   "id": "b178af3a-3117-40eb-bf71-5b217cea9ebe",
   "metadata": {},
   "outputs": [],
   "source": [
    "for element in elements:\n",
    "    psets = ifcopenshell.util.element.get_psets(element)  # Retrieve property sets\n",
    "    if 'Dimensions' in psets and 'Volume' in psets['Dimensions']:\n",
    "        volume = psets['Dimensions']['Volume']  # Extract volume\n",
    "        name_lower = element.Name.lower() if element.Name else \"\"  # Make name lowercase"
   ]
  },
  {
   "cell_type": "markdown",
   "id": "afeadc98-9b86-4b34-b565-3e63e2ce38d8",
   "metadata": {},
   "source": [
    "- Property sets (psets): Used to retrieve properties such as volume.  \n",
    "- The script looks for a property set named Dimensions and a property called Volume.  \n",
    "- The element’s name is converted to lowercase to avoid case sensitivity issues.  \n",
    "\n",
    "**e. Categorizing Materials.**"
   ]
  },
  {
   "cell_type": "code",
   "execution_count": null,
   "id": "110a30a7-7e87-4f2c-abac-332267d98b59",
   "metadata": {},
   "outputs": [],
   "source": [
    "if \"laminate\" in name_lower:\n",
    "    laminate_volume += volume\n",
    "    mass = volume * laminate_density\n",
    "    laminate_co2 += mass * laminate_co2_factor\n",
    "elif \"tile\" in name_lower:\n",
    "    tile_volume += volume\n",
    "    mass = volume * tile_density\n",
    "    tile_co2 += mass * tile_co2_factor\n",
    "elif \"wood\" in name_lower:\n",
    "    wood_volume += volume\n",
    "    wood_co2 += volume * wood_co2_factor"
   ]
  },
  {
   "cell_type": "markdown",
   "id": "cec20d07-df01-412b-bb22-546a700988bf",
   "metadata": {},
   "source": [
    "- The script checks whether the element’s name contains \"laminate\", \"tile\", or \"wood\".  \n",
    "- Depending on the material type:  \n",
    "    - Volume is added to the corresponding category.  \n",
    "    - CO₂ emissions are calculated using density and CO₂ factor.  \n",
    "\n",
    "**f. Summarizing Results.**"
   ]
  },
  {
   "cell_type": "code",
   "execution_count": null,
   "id": "0b19df64-b0ba-436a-be56-51da5be66c0e",
   "metadata": {},
   "outputs": [],
   "source": [
    "if laminate_volume > 0:\n",
    "        result.append(f\"Total volume of Laminate flooring: {laminate_volume} m³, total CO2 contribution from laminate flooring: {laminate_co2} kgCO2eq\")\n",
    "    if tile_volume > 0:\n",
    "        result.append(f\"Total volume of Tile flooring: {tile_volume} m³, total CO2 contribution from tile flooring: {tile_co2} kgCO2eq\")\n",
    "    if wood_volume > 0:\n",
    "        result.append(f\"Total volume of Wood flooring: {wood_volume} m³, total CO2 contribution from wood flooring: {wood_co2} kgCO2eq\")"
   ]
  },
  {
   "cell_type": "markdown",
   "id": "4a8f4302-039f-4277-aa93-d3ec7bc7417b",
   "metadata": {},
   "source": [
    "- If any category has a non-zero volume, the total volume and CO₂ emissions are added to the result list as a formatted string.  \n",
    "\n",
    "**g. Return Results.**"
   ]
  },
  {
   "cell_type": "code",
   "execution_count": null,
   "id": "a5e46822-0ee0-4abc-86cd-2564bf46f4bd",
   "metadata": {},
   "outputs": [],
   "source": [
    "return result"
   ]
  },
  {
   "cell_type": "markdown",
   "id": "297defe7-e1b4-454e-b905-4d82ecc0dbed",
   "metadata": {},
   "source": [
    "- The function returns a list of strings summarizing the analysis."
   ]
  },
  {
   "cell_type": "markdown",
   "id": "980de626-6d9e-41de-88ef-8732245c3243",
   "metadata": {},
   "source": [
    "## 4. How to Use the Script\n",
    "**Step 1: Load the IFC Model.**"
   ]
  },
  {
   "cell_type": "code",
   "execution_count": null,
   "id": "7a2503ef-66a3-4534-b4d5-9c5540b40fe0",
   "metadata": {
    "scrolled": true
   },
   "outputs": [],
   "source": [
    "model = ifcopenshell.open(\"C:/Users/freja/OneDrive/Dokumenter/02. Kandidat/1. semester/02 BIM/CES_BLD_24_06_ARC.ifc\")\n",
    "print(\"model loaded\")"
   ]
  },
  {
   "cell_type": "markdown",
   "id": "db5dcd99-36bc-4da7-a26c-1a5574fc5f71",
   "metadata": {},
   "source": [
    "**Step 2: Run the Function.**"
   ]
  },
  {
   "cell_type": "code",
   "execution_count": null,
   "id": "bc3d5400-80c6-42c5-bd3e-56b1f2291fe5",
   "metadata": {},
   "outputs": [],
   "source": [
    "floorResult=GeometryRule.checkRule(model)"
   ]
  },
  {
   "cell_type": "markdown",
   "id": "6c3275b9-f37a-405c-8fc2-6730e8348193",
   "metadata": {},
   "source": [
    "**Step 3: Display Results.**"
   ]
  },
  {
   "cell_type": "code",
   "execution_count": null,
   "id": "68c1700b-10c3-4f20-b798-e3ddb46b66e4",
   "metadata": {},
   "outputs": [],
   "source": [
    "for result in floorResult:\n",
    "    print(result)"
   ]
  },
  {
   "cell_type": "markdown",
   "id": "11057ff9-947b-4c63-9d38-fbab9de608be",
   "metadata": {},
   "source": [
    "## 5. Example Output\n",
    "If the IFC file contains:  \n",
    "- 10 m³ of laminate flooring.  \n",
    "- 5 m³ of tile flooring.  \n",
    "- 2 m³ of wood flooring.  \n",
    "\n",
    "The output might look like this:"
   ]
  },
  {
   "cell_type": "code",
   "execution_count": null,
   "id": "a3136521-e989-4f9d-9051-82d89f4f6c87",
   "metadata": {},
   "outputs": [],
   "source": [
    "Total volume of Laminate flooring: 10 m³, total CO2 contribution from laminate flooring: 433.5 kgCO2eq\n",
    "Total volume of Tile flooring: 5 m³, total CO2 contribution from tile flooring: 1514.5 kgCO2eq\n",
    "Total volume of Wood flooring: 2 m³, total CO2 contribution from wood flooring: 183.8 kgCO2eq"
   ]
  },
  {
   "cell_type": "markdown",
   "id": "a6771e98-d5ea-4609-a343-941eee8e7c0f",
   "metadata": {},
   "source": [
    "## 6. Key Notes\n",
    "- Ensure that your IFC file contains the required property sets (Dimensions with Volume) for meaningful results.\n",
    "- The script assumes material identification is based on the element name (e.g., \"laminate\" in the name for laminate flooring).\n"
   ]
  },
  {
   "cell_type": "code",
   "execution_count": null,
   "id": "cb6711fb-4cde-47ca-9415-9a8ab8d1b50d",
   "metadata": {},
   "outputs": [],
   "source": [
    " "
   ]
  }
 ],
 "metadata": {
  "kernelspec": {
   "display_name": "Python 3 (ipykernel)",
   "language": "python",
   "name": "python3"
  },
  "language_info": {
   "codemirror_mode": {
    "name": "ipython",
    "version": 3
   },
   "file_extension": ".py",
   "mimetype": "text/x-python",
   "name": "python",
   "nbconvert_exporter": "python",
   "pygments_lexer": "ipython3",
   "version": "3.11.10"
  }
 },
 "nbformat": 4,
 "nbformat_minor": 5
}
